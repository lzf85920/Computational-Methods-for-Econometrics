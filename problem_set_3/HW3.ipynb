{
 "cells": [
  {
   "cell_type": "markdown",
   "metadata": {},
   "source": [
    "# HW3"
   ]
  },
  {
   "cell_type": "code",
   "execution_count": 1,
   "metadata": {},
   "outputs": [],
   "source": [
    "import pandas as pd\n",
    "import numpy as np\n",
    "from scipy.optimize import minimize\n",
    "from scipy.stats import norm"
   ]
  },
  {
   "cell_type": "code",
   "execution_count": 42,
   "metadata": {
    "scrolled": true
   },
   "outputs": [],
   "source": [
    "data = pd.read_excel(\"/Users/lee/Downloads/CilibertoTamerEconometrica.xlsx\")"
   ]
  },
  {
   "cell_type": "markdown",
   "metadata": {},
   "source": [
    "# Q1"
   ]
  },
  {
   "cell_type": "code",
   "execution_count": 53,
   "metadata": {},
   "outputs": [
    {
     "data": {
      "text/plain": [
       "array([[1.        , 1.81654286, 0.69199997],\n",
       "       [1.        , 1.00100732, 0.685     ],\n",
       "       [1.        , 1.23256075, 0.50300002],\n",
       "       ...,\n",
       "       [1.        , 1.45095992, 1.72099996],\n",
       "       [1.        , 1.23586535, 0.54699999],\n",
       "       [1.        , 0.8648805 , 0.90600002]])"
      ]
     },
     "execution_count": 53,
     "metadata": {},
     "output_type": "execute_result"
    }
   ],
   "source": [
    "n = len(data)\n",
    "data['mk'] = 1\n",
    "X = np.array(data[['mk', 'marketsize', 'marketdistance']])\n",
    "X"
   ]
  },
  {
   "cell_type": "code",
   "execution_count": 30,
   "metadata": {},
   "outputs": [
    {
     "data": {
      "text/plain": [
       "array([1, 1, 0, ..., 4, 2, 1])"
      ]
     },
     "execution_count": 30,
     "metadata": {},
     "output_type": "execute_result"
    }
   ],
   "source": [
    "N = np.array(data[['airlineAA', 'airlineDL', 'airlineUA', 'airlineAL', 'airlineLCC', 'airlineWN']].sum(axis=1))\n",
    "N"
   ]
  },
  {
   "cell_type": "code",
   "execution_count": 39,
   "metadata": {},
   "outputs": [],
   "source": [
    "def nl(para):\n",
    "    beta = np.array(para[:3])\n",
    "    delta = np.array(para[3])\n",
    "    \n",
    "    nll = 0\n",
    "    for i in range(n):\n",
    "        if N[i] == 0:\n",
    "            nll += -np.log(norm.cdf(np.dot(-X[i], beta)))\n",
    "        elif N[i] == 6:\n",
    "            nll += -np.log(1 - norm.cdf(np.dot(-X[i], beta) + delta*np.log(6)))\n",
    "        else:\n",
    "            nll += -np.log(norm.cdf(np.dot(-X[i], beta) + delta*np.log(N[i] + 1)) - norm.cdf(np.dot(-X[i], beta) + delta*np.log(N[i])))\n",
    "    return nll"
   ]
  },
  {
   "cell_type": "code",
   "execution_count": 40,
   "metadata": {},
   "outputs": [],
   "source": [
    "para = [1.3, 1.3, 1.3, 1]"
   ]
  },
  {
   "cell_type": "code",
   "execution_count": 41,
   "metadata": {},
   "outputs": [
    {
     "name": "stderr",
     "output_type": "stream",
     "text": [
      "/opt/anaconda3/lib/python3.7/site-packages/ipykernel_launcher.py:12: RuntimeWarning: divide by zero encountered in log\n",
      "  if sys.path[0] == '':\n",
      "/opt/anaconda3/lib/python3.7/site-packages/ipykernel_launcher.py:10: RuntimeWarning: divide by zero encountered in log\n",
      "  # Remove the CWD from sys.path while we load stuff.\n",
      "/opt/anaconda3/lib/python3.7/site-packages/ipykernel_launcher.py:8: RuntimeWarning: divide by zero encountered in log\n",
      "  \n",
      "/opt/anaconda3/lib/python3.7/site-packages/scipy/optimize/optimize.py:697: RuntimeWarning: invalid value encountered in double_scalars\n",
      "  df = (f(*((xk + d,) + args)) - f0) / d[k]\n",
      "/opt/anaconda3/lib/python3.7/site-packages/ipykernel_launcher.py:12: RuntimeWarning: divide by zero encountered in log\n",
      "  if sys.path[0] == '':\n",
      "/opt/anaconda3/lib/python3.7/site-packages/ipykernel_launcher.py:10: RuntimeWarning: divide by zero encountered in log\n",
      "  # Remove the CWD from sys.path while we load stuff.\n",
      "/opt/anaconda3/lib/python3.7/site-packages/ipykernel_launcher.py:8: RuntimeWarning: divide by zero encountered in log\n",
      "  \n"
     ]
    },
    {
     "name": "stdout",
     "output_type": "stream",
     "text": [
      "Warning: Desired error not necessarily achieved due to precision loss.\n",
      "         Current function value: 4599.864692\n",
      "         Iterations: 15\n",
      "         Function evaluations: 472\n",
      "         Gradient evaluations: 76\n"
     ]
    }
   ],
   "source": [
    "ans = minimize(nl, para, options={'disp': True})"
   ]
  },
  {
   "cell_type": "code",
   "execution_count": 43,
   "metadata": {},
   "outputs": [],
   "source": [
    "para = ans.x\n",
    "beta, delta = para[:3], para[3]\n",
    "cvmt = ans.hess_inv\n",
    "se = [np.sqrt(cvmt[i,i]) for i in range(len(cvmt))]"
   ]
  },
  {
   "cell_type": "code",
   "execution_count": 46,
   "metadata": {
    "scrolled": true
   },
   "outputs": [
    {
     "name": "stdout",
     "output_type": "stream",
     "text": [
      "Beta: [0.98325407 0.06796466 0.47342029] \n",
      "Beta's standard error: [0.016073392954031825, 0.017222813891410622, 0.012128213291040213]\n",
      "Delta: 1.9211390416649874 \n",
      "Delta's standard error: 0.03196461970500831\n"
     ]
    }
   ],
   "source": [
    "print('Beta:',beta,'\\nBeta\\'s standard error:',se[:3])\n",
    "print('Delta:',delta,'\\nDelta\\'s standard error:',se[3])\n"
   ]
  },
  {
   "cell_type": "markdown",
   "metadata": {},
   "source": [
    "# Q2"
   ]
  },
  {
   "cell_type": "code",
   "execution_count": 59,
   "metadata": {
    "scrolled": true
   },
   "outputs": [],
   "source": [
    "data = np.array(data)\n",
    "data2 = []\n",
    "for i in range(n):\n",
    "    imk = []\n",
    "    for j in range(6):\n",
    "        imk.append(np.append(X[i], (data[i][j+15], data[i][j+21])))\n",
    "    data2.append(np.vstack(imk))"
   ]
  },
  {
   "cell_type": "code",
   "execution_count": 60,
   "metadata": {},
   "outputs": [
    {
     "data": {
      "text/plain": [
       "array([[1.        , 1.81654286, 0.69199997, 0.18000001, 0.81831986],\n",
       "       [1.        , 1.81654286, 0.69199997, 0.55909091, 0.        ],\n",
       "       [1.        , 1.81654286, 0.69199997, 0.24636364, 0.81831986],\n",
       "       [1.        , 1.81654286, 0.69199997, 0.48030305, 0.02098957],\n",
       "       [1.        , 1.81654286, 0.69199997, 0.10666667, 0.        ],\n",
       "       [1.        , 1.81654286, 0.69199997, 0.        , 0.00691858]])"
      ]
     },
     "execution_count": 60,
     "metadata": {},
     "output_type": "execute_result"
    }
   ],
   "source": [
    "data2[0]"
   ]
  },
  {
   "cell_type": "code",
   "execution_count": 64,
   "metadata": {
    "scrolled": true
   },
   "outputs": [],
   "source": [
    "def of(para):\n",
    "    beta_alpha = np.array(para[:5])\n",
    "    delta = np.array(para[5])\n",
    "    phi = np.array(para[6])\n",
    "    \n",
    "    E_N = np.zeros(n)\n",
    "    np.random.seed(7323014)\n",
    "    for i in range(n):\n",
    "        N_list = np.zeros(T)\n",
    "        for j in range(T):\n",
    "            u_i0 = np.random.randn(1)\n",
    "            u_ik = np.random.randn(6)\n",
    "            for k in range(6,0,-1):\n",
    "                profit = np.dot(data2[i], beta_alpha) - delta*np.log(k) + phi*u_i0 + np.sqrt(1-phi**2)*u_ik\n",
    "                profit_num_firm = sum(profit > 0)\n",
    "                if profit_num_firm >= k:\n",
    "                    N_list[j] = k\n",
    "                    break\n",
    "        E_N[i] = np.mean(N_list)\n",
    "    Error = N - E_N\n",
    "    mu = np.dot(Error, X)\n",
    "    return np.dot(mu, mu)"
   ]
  },
  {
   "cell_type": "code",
   "execution_count": 68,
   "metadata": {},
   "outputs": [],
   "source": [
    "para = [0, 0, 0, 0, 0, 0.5, 0.5]"
   ]
  },
  {
   "cell_type": "code",
   "execution_count": 69,
   "metadata": {
    "scrolled": true
   },
   "outputs": [
    {
     "name": "stdout",
     "output_type": "stream",
     "text": [
      "Optimization terminated successfully.\n",
      "         Current function value: 377900.029208\n",
      "         Iterations: 100\n",
      "         Function evaluations: 223\n",
      "Optimization terminated successfully.\n",
      "         Current function value: 379209.268054\n",
      "         Iterations: 106\n",
      "         Function evaluations: 225\n",
      "Optimization terminated successfully.\n",
      "         Current function value: 374230.755281\n",
      "         Iterations: 100\n",
      "         Function evaluations: 217\n",
      "Optimization terminated successfully.\n",
      "         Current function value: 368037.569732\n",
      "         Iterations: 121\n",
      "         Function evaluations: 280\n",
      "Optimization terminated successfully.\n",
      "         Current function value: 376597.835136\n",
      "         Iterations: 92\n",
      "         Function evaluations: 202\n",
      "Optimization terminated successfully.\n",
      "         Current function value: 382955.646209\n",
      "         Iterations: 136\n",
      "         Function evaluations: 296\n",
      "Optimization terminated successfully.\n",
      "         Current function value: 356674.650425\n",
      "         Iterations: 117\n",
      "         Function evaluations: 234\n",
      "Optimization terminated successfully.\n",
      "         Current function value: 367591.867570\n",
      "         Iterations: 112\n",
      "         Function evaluations: 222\n",
      "Optimization terminated successfully.\n",
      "         Current function value: 360965.345754\n",
      "         Iterations: 104\n",
      "         Function evaluations: 227\n",
      "Optimization terminated successfully.\n",
      "         Current function value: 370475.054550\n",
      "         Iterations: 103\n",
      "         Function evaluations: 214\n",
      "Optimization terminated successfully.\n",
      "         Current function value: 370898.818858\n",
      "         Iterations: 99\n",
      "         Function evaluations: 204\n",
      "Optimization terminated successfully.\n",
      "         Current function value: 377950.344437\n",
      "         Iterations: 119\n",
      "         Function evaluations: 244\n",
      "Optimization terminated successfully.\n",
      "         Current function value: 378178.892180\n",
      "         Iterations: 99\n",
      "         Function evaluations: 217\n",
      "Optimization terminated successfully.\n",
      "         Current function value: 375293.890456\n",
      "         Iterations: 139\n",
      "         Function evaluations: 275\n",
      "Optimization terminated successfully.\n",
      "         Current function value: 372680.132533\n",
      "         Iterations: 113\n",
      "         Function evaluations: 248\n",
      "Optimization terminated successfully.\n",
      "         Current function value: 376883.904614\n",
      "         Iterations: 129\n",
      "         Function evaluations: 234\n",
      "Optimization terminated successfully.\n",
      "         Current function value: 373420.176547\n",
      "         Iterations: 114\n",
      "         Function evaluations: 252\n",
      "Optimization terminated successfully.\n",
      "         Current function value: 367319.463823\n",
      "         Iterations: 113\n",
      "         Function evaluations: 297\n"
     ]
    },
    {
     "ename": "KeyboardInterrupt",
     "evalue": "",
     "output_type": "error",
     "traceback": [
      "\u001b[0;31m---------------------------------------------------------------------------\u001b[0m",
      "\u001b[0;31mKeyboardInterrupt\u001b[0m                         Traceback (most recent call last)",
      "\u001b[0;32m<ipython-input-69-93c6541287c5>\u001b[0m in \u001b[0;36m<module>\u001b[0;34m\u001b[0m\n\u001b[1;32m     30\u001b[0m                    \u001b[0mpara\u001b[0m\u001b[0;34m,\u001b[0m\u001b[0;34m\u001b[0m\u001b[0;34m\u001b[0m\u001b[0m\n\u001b[1;32m     31\u001b[0m                    \u001b[0mmethod\u001b[0m\u001b[0;34m=\u001b[0m\u001b[0;34m'Nelder-Mead'\u001b[0m\u001b[0;34m,\u001b[0m\u001b[0;34m\u001b[0m\u001b[0;34m\u001b[0m\u001b[0m\n\u001b[0;32m---> 32\u001b[0;31m                    options={'disp': True})\n\u001b[0m\u001b[1;32m     33\u001b[0m     \u001b[0mθ_list\u001b[0m\u001b[0;34m.\u001b[0m\u001b[0mappend\u001b[0m\u001b[0;34m(\u001b[0m\u001b[0mans\u001b[0m\u001b[0;34m.\u001b[0m\u001b[0mx\u001b[0m\u001b[0;34m)\u001b[0m\u001b[0;34m\u001b[0m\u001b[0;34m\u001b[0m\u001b[0m\n",
      "\u001b[0;32m/opt/anaconda3/lib/python3.7/site-packages/scipy/optimize/_minimize.py\u001b[0m in \u001b[0;36mminimize\u001b[0;34m(fun, x0, args, method, jac, hess, hessp, bounds, constraints, tol, callback, options)\u001b[0m\n\u001b[1;32m    596\u001b[0m \u001b[0;34m\u001b[0m\u001b[0m\n\u001b[1;32m    597\u001b[0m     \u001b[0;32mif\u001b[0m \u001b[0mmeth\u001b[0m \u001b[0;34m==\u001b[0m \u001b[0;34m'nelder-mead'\u001b[0m\u001b[0;34m:\u001b[0m\u001b[0;34m\u001b[0m\u001b[0;34m\u001b[0m\u001b[0m\n\u001b[0;32m--> 598\u001b[0;31m         \u001b[0;32mreturn\u001b[0m \u001b[0m_minimize_neldermead\u001b[0m\u001b[0;34m(\u001b[0m\u001b[0mfun\u001b[0m\u001b[0;34m,\u001b[0m \u001b[0mx0\u001b[0m\u001b[0;34m,\u001b[0m \u001b[0margs\u001b[0m\u001b[0;34m,\u001b[0m \u001b[0mcallback\u001b[0m\u001b[0;34m,\u001b[0m \u001b[0;34m**\u001b[0m\u001b[0moptions\u001b[0m\u001b[0;34m)\u001b[0m\u001b[0;34m\u001b[0m\u001b[0;34m\u001b[0m\u001b[0m\n\u001b[0m\u001b[1;32m    599\u001b[0m     \u001b[0;32melif\u001b[0m \u001b[0mmeth\u001b[0m \u001b[0;34m==\u001b[0m \u001b[0;34m'powell'\u001b[0m\u001b[0;34m:\u001b[0m\u001b[0;34m\u001b[0m\u001b[0;34m\u001b[0m\u001b[0m\n\u001b[1;32m    600\u001b[0m         \u001b[0;32mreturn\u001b[0m \u001b[0m_minimize_powell\u001b[0m\u001b[0;34m(\u001b[0m\u001b[0mfun\u001b[0m\u001b[0;34m,\u001b[0m \u001b[0mx0\u001b[0m\u001b[0;34m,\u001b[0m \u001b[0margs\u001b[0m\u001b[0;34m,\u001b[0m \u001b[0mcallback\u001b[0m\u001b[0;34m,\u001b[0m \u001b[0;34m**\u001b[0m\u001b[0moptions\u001b[0m\u001b[0;34m)\u001b[0m\u001b[0;34m\u001b[0m\u001b[0;34m\u001b[0m\u001b[0m\n",
      "\u001b[0;32m/opt/anaconda3/lib/python3.7/site-packages/scipy/optimize/optimize.py\u001b[0m in \u001b[0;36m_minimize_neldermead\u001b[0;34m(func, x0, args, callback, maxiter, maxfev, disp, return_all, initial_simplex, xatol, fatol, adaptive, **unknown_options)\u001b[0m\n\u001b[1;32m    631\u001b[0m                     \u001b[0;31m# Perform an inside contraction\u001b[0m\u001b[0;34m\u001b[0m\u001b[0;34m\u001b[0m\u001b[0;34m\u001b[0m\u001b[0m\n\u001b[1;32m    632\u001b[0m                     \u001b[0mxcc\u001b[0m \u001b[0;34m=\u001b[0m \u001b[0;34m(\u001b[0m\u001b[0;36m1\u001b[0m \u001b[0;34m-\u001b[0m \u001b[0mpsi\u001b[0m\u001b[0;34m)\u001b[0m \u001b[0;34m*\u001b[0m \u001b[0mxbar\u001b[0m \u001b[0;34m+\u001b[0m \u001b[0mpsi\u001b[0m \u001b[0;34m*\u001b[0m \u001b[0msim\u001b[0m\u001b[0;34m[\u001b[0m\u001b[0;34m-\u001b[0m\u001b[0;36m1\u001b[0m\u001b[0;34m]\u001b[0m\u001b[0;34m\u001b[0m\u001b[0;34m\u001b[0m\u001b[0m\n\u001b[0;32m--> 633\u001b[0;31m                     \u001b[0mfxcc\u001b[0m \u001b[0;34m=\u001b[0m \u001b[0mfunc\u001b[0m\u001b[0;34m(\u001b[0m\u001b[0mxcc\u001b[0m\u001b[0;34m)\u001b[0m\u001b[0;34m\u001b[0m\u001b[0;34m\u001b[0m\u001b[0m\n\u001b[0m\u001b[1;32m    634\u001b[0m \u001b[0;34m\u001b[0m\u001b[0m\n\u001b[1;32m    635\u001b[0m                     \u001b[0;32mif\u001b[0m \u001b[0mfxcc\u001b[0m \u001b[0;34m<\u001b[0m \u001b[0mfsim\u001b[0m\u001b[0;34m[\u001b[0m\u001b[0;34m-\u001b[0m\u001b[0;36m1\u001b[0m\u001b[0;34m]\u001b[0m\u001b[0;34m:\u001b[0m\u001b[0;34m\u001b[0m\u001b[0;34m\u001b[0m\u001b[0m\n",
      "\u001b[0;32m/opt/anaconda3/lib/python3.7/site-packages/scipy/optimize/optimize.py\u001b[0m in \u001b[0;36mfunction_wrapper\u001b[0;34m(*wrapper_args)\u001b[0m\n\u001b[1;32m    325\u001b[0m     \u001b[0;32mdef\u001b[0m \u001b[0mfunction_wrapper\u001b[0m\u001b[0;34m(\u001b[0m\u001b[0;34m*\u001b[0m\u001b[0mwrapper_args\u001b[0m\u001b[0;34m)\u001b[0m\u001b[0;34m:\u001b[0m\u001b[0;34m\u001b[0m\u001b[0;34m\u001b[0m\u001b[0m\n\u001b[1;32m    326\u001b[0m         \u001b[0mncalls\u001b[0m\u001b[0;34m[\u001b[0m\u001b[0;36m0\u001b[0m\u001b[0;34m]\u001b[0m \u001b[0;34m+=\u001b[0m \u001b[0;36m1\u001b[0m\u001b[0;34m\u001b[0m\u001b[0;34m\u001b[0m\u001b[0m\n\u001b[0;32m--> 327\u001b[0;31m         \u001b[0;32mreturn\u001b[0m \u001b[0mfunction\u001b[0m\u001b[0;34m(\u001b[0m\u001b[0;34m*\u001b[0m\u001b[0;34m(\u001b[0m\u001b[0mwrapper_args\u001b[0m \u001b[0;34m+\u001b[0m \u001b[0margs\u001b[0m\u001b[0;34m)\u001b[0m\u001b[0;34m)\u001b[0m\u001b[0;34m\u001b[0m\u001b[0;34m\u001b[0m\u001b[0m\n\u001b[0m\u001b[1;32m    328\u001b[0m \u001b[0;34m\u001b[0m\u001b[0m\n\u001b[1;32m    329\u001b[0m     \u001b[0;32mreturn\u001b[0m \u001b[0mncalls\u001b[0m\u001b[0;34m,\u001b[0m \u001b[0mfunction_wrapper\u001b[0m\u001b[0;34m\u001b[0m\u001b[0;34m\u001b[0m\u001b[0m\n",
      "\u001b[0;32m<ipython-input-69-93c6541287c5>\u001b[0m in \u001b[0;36mof\u001b[0;34m(para)\u001b[0m\n\u001b[1;32m     19\u001b[0m                 \u001b[0;32mfor\u001b[0m \u001b[0mk\u001b[0m \u001b[0;32min\u001b[0m \u001b[0mrange\u001b[0m\u001b[0;34m(\u001b[0m\u001b[0;36m6\u001b[0m\u001b[0;34m,\u001b[0m\u001b[0;36m0\u001b[0m\u001b[0;34m,\u001b[0m\u001b[0;34m-\u001b[0m\u001b[0;36m1\u001b[0m\u001b[0;34m)\u001b[0m\u001b[0;34m:\u001b[0m\u001b[0;34m\u001b[0m\u001b[0;34m\u001b[0m\u001b[0m\n\u001b[1;32m     20\u001b[0m                     \u001b[0mprofit\u001b[0m \u001b[0;34m=\u001b[0m \u001b[0mnp\u001b[0m\u001b[0;34m.\u001b[0m\u001b[0mdot\u001b[0m\u001b[0;34m(\u001b[0m\u001b[0mdata2\u001b[0m\u001b[0;34m[\u001b[0m\u001b[0mi\u001b[0m\u001b[0;34m]\u001b[0m\u001b[0;34m,\u001b[0m \u001b[0mβ_α\u001b[0m\u001b[0;34m)\u001b[0m \u001b[0;34m-\u001b[0m \u001b[0mδ\u001b[0m\u001b[0;34m*\u001b[0m\u001b[0mnp\u001b[0m\u001b[0;34m.\u001b[0m\u001b[0mlog\u001b[0m\u001b[0;34m(\u001b[0m\u001b[0mk\u001b[0m\u001b[0;34m)\u001b[0m \u001b[0;34m+\u001b[0m \u001b[0mρ\u001b[0m\u001b[0;34m*\u001b[0m\u001b[0mu_i0\u001b[0m \u001b[0;34m+\u001b[0m \u001b[0mnp\u001b[0m\u001b[0;34m.\u001b[0m\u001b[0msqrt\u001b[0m\u001b[0;34m(\u001b[0m\u001b[0;36m1\u001b[0m\u001b[0;34m-\u001b[0m\u001b[0mρ\u001b[0m\u001b[0;34m**\u001b[0m\u001b[0;36m2\u001b[0m\u001b[0;34m)\u001b[0m\u001b[0;34m*\u001b[0m\u001b[0mu_ik\u001b[0m\u001b[0;34m\u001b[0m\u001b[0;34m\u001b[0m\u001b[0m\n\u001b[0;32m---> 21\u001b[0;31m                     \u001b[0mprofit_num_firm\u001b[0m \u001b[0;34m=\u001b[0m \u001b[0msum\u001b[0m\u001b[0;34m(\u001b[0m\u001b[0mprofit\u001b[0m \u001b[0;34m>\u001b[0m \u001b[0;36m0\u001b[0m\u001b[0;34m)\u001b[0m\u001b[0;34m\u001b[0m\u001b[0;34m\u001b[0m\u001b[0m\n\u001b[0m\u001b[1;32m     22\u001b[0m                     \u001b[0;32mif\u001b[0m \u001b[0mprofit_num_firm\u001b[0m \u001b[0;34m>=\u001b[0m \u001b[0mk\u001b[0m\u001b[0;34m:\u001b[0m\u001b[0;34m\u001b[0m\u001b[0;34m\u001b[0m\u001b[0m\n\u001b[1;32m     23\u001b[0m                         \u001b[0mN_list\u001b[0m\u001b[0;34m[\u001b[0m\u001b[0mj\u001b[0m\u001b[0;34m]\u001b[0m \u001b[0;34m=\u001b[0m \u001b[0mk\u001b[0m\u001b[0;34m\u001b[0m\u001b[0;34m\u001b[0m\u001b[0m\n",
      "\u001b[0;31mKeyboardInterrupt\u001b[0m: "
     ]
    }
   ],
   "source": [
    "θ_list = []\n",
    "T = 30\n",
    "S = 30\n",
    "seed_list = np.random.randint(0,high=10000,size=S)\n",
    "for seed in range(S):\n",
    "    ith_seed = seed_list[seed]\n",
    "    def of(para):\n",
    "        β_α = np.array(para[:5])\n",
    "        δ = np.array(para[5])\n",
    "        ρ = np.array(para[6])\n",
    "    \n",
    "        E_N = np.zeros(n)\n",
    "        np.random.seed(ith_seed)\n",
    "        for i in range(n):\n",
    "            N_list = np.zeros(T)\n",
    "            for j in range(T):\n",
    "                u_i0 = np.random.randn(1)\n",
    "                u_ik = np.random.randn(6)\n",
    "                for k in range(6,0,-1):\n",
    "                    profit = np.dot(data2[i], β_α) - δ*np.log(k) + ρ*u_i0 + np.sqrt(1-ρ**2)*u_ik\n",
    "                    profit_num_firm = sum(profit > 0)\n",
    "                    if profit_num_firm >= k:\n",
    "                        N_list[j] = k\n",
    "                        break\n",
    "            E_N[i] = np.mean(N_list)\n",
    "        Error = N - E_N\n",
    "        μ = np.dot(Error, X)\n",
    "        return np.dot(μ, μ)\n",
    "    ans = minimize(of,\n",
    "                   para,\n",
    "                   method='Nelder-Mead',\n",
    "                   options={'disp': True})\n",
    "    θ_list.append(ans.x)"
   ]
  },
  {
   "cell_type": "code",
   "execution_count": 72,
   "metadata": {},
   "outputs": [],
   "source": [
    "θ = np.array(θ_list).mean(axis=0)\n",
    "b, a, d, p = θ[:3], θ[3:5], θ[5], θ[6]\n",
    "se = np.array(θ_list).std(axis=0)"
   ]
  },
  {
   "cell_type": "code",
   "execution_count": 76,
   "metadata": {},
   "outputs": [
    {
     "name": "stdout",
     "output_type": "stream",
     "text": [
      "beta: [0.00047961 0.00116044 0.00014594]\n",
      "beta's standard error: [1.35488485e-04 5.41428688e-05 1.26644489e-04]\n",
      "alpha: [0.00022884 0.00045789]\n",
      "alpha's standard error: [0.00021857 0.00022327]\n",
      "delta: 0.24409692574675956\n",
      "delta's standard error: 0.0030761758032818412\n",
      "phi: 0.49324155613599996\n",
      "phi's standard error: 0.004369318858032602\n"
     ]
    }
   ],
   "source": [
    "print('beta:',b)\n",
    "print('beta\\'s standard error:',se[:3])\n",
    "print('alpha:',a)\n",
    "print('alpha\\'s standard error:',se[3:5])\n",
    "print('delta:',d)\n",
    "print('delta\\'s standard error:',se[5])\n",
    "print('phi:',p)\n",
    "print('phi\\'s standard error:',se[6])"
   ]
  },
  {
   "cell_type": "code",
   "execution_count": null,
   "metadata": {},
   "outputs": [],
   "source": []
  }
 ],
 "metadata": {
  "kernelspec": {
   "display_name": "Python 3",
   "language": "python",
   "name": "python3"
  },
  "language_info": {
   "codemirror_mode": {
    "name": "ipython",
    "version": 3
   },
   "file_extension": ".py",
   "mimetype": "text/x-python",
   "name": "python",
   "nbconvert_exporter": "python",
   "pygments_lexer": "ipython3",
   "version": "3.7.6"
  }
 },
 "nbformat": 4,
 "nbformat_minor": 4
}
